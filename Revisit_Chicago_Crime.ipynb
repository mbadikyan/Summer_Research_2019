{
 "cells": [
  {
   "cell_type": "markdown",
   "metadata": {},
   "source": [
    "# Chicago Crime Revisit"
   ]
  },
  {
   "cell_type": "markdown",
   "metadata": {},
   "source": [
    "This notebook focuses on analyzing a random subset of the full Chicago Crime dataest. The dimensions of this dataset are described below."
   ]
  },
  {
   "cell_type": "code",
   "execution_count": 1,
   "metadata": {},
   "outputs": [],
   "source": [
    "import pandas as pd\n",
    "import numpy as np\n",
    "import seaborn as sns\n",
    "import matplotlib.pyplot as plt"
   ]
  },
  {
   "cell_type": "code",
   "execution_count": 2,
   "metadata": {},
   "outputs": [],
   "source": [
    "crime_df = pd.read_csv(\"C:\\\\Users\\\\mbadi\\\\Desktop\\\\Summer_Research\\\\reduced_crime_df.csv\")"
   ]
  },
  {
   "cell_type": "code",
   "execution_count": 3,
   "metadata": {},
   "outputs": [
    {
     "name": "stdout",
     "output_type": "stream",
     "text": [
      "<class 'pandas.core.frame.DataFrame'>\n",
      "RangeIndex: 269251 entries, 0 to 269250\n",
      "Data columns (total 31 columns):\n",
      "Unnamed: 0                    269251 non-null int64\n",
      "ID                            269251 non-null float64\n",
      "Case Number                   269251 non-null object\n",
      "Date                          269251 non-null object\n",
      "Block                         269251 non-null object\n",
      "IUCR                          269251 non-null object\n",
      "Primary Type                  269251 non-null object\n",
      "Description                   269251 non-null object\n",
      "Location Description          269251 non-null object\n",
      "Arrest                        269251 non-null bool\n",
      "Domestic                      269251 non-null bool\n",
      "Beat                          269251 non-null float64\n",
      "District                      269251 non-null float64\n",
      "Ward                          269251 non-null float64\n",
      "Community Area                269251 non-null float64\n",
      "FBI Code                      269251 non-null object\n",
      "X Coordinate                  269251 non-null float64\n",
      "Y Coordinate                  269251 non-null float64\n",
      "Year                          269251 non-null float64\n",
      "Updated On                    269251 non-null object\n",
      "Latitude                      269251 non-null float64\n",
      "Longitude                     269251 non-null float64\n",
      "Location                      269251 non-null object\n",
      "Historical Wards 2003-2015    269251 non-null float64\n",
      "Zip Codes                     269251 non-null float64\n",
      "Community Areas               269251 non-null float64\n",
      "Census Tracts                 269251 non-null float64\n",
      "Wards                         269251 non-null float64\n",
      "Boundaries - ZIP Codes        269251 non-null float64\n",
      "Police Districts              269251 non-null float64\n",
      "Police Beats                  269251 non-null float64\n",
      "dtypes: bool(2), float64(18), int64(1), object(10)\n",
      "memory usage: 60.1+ MB\n"
     ]
    }
   ],
   "source": [
    "crime_df.info()"
   ]
  },
  {
   "cell_type": "markdown",
   "metadata": {},
   "source": [
    "The main obstacle is the large number of categories across the categorical variables; this raises memory errors and stifles our analysis. Let's see if we can't reduce the problem so that we stay within only the most \"impactful\" categories. Before that, we can drop any columns that are meaningless designators like \"ID\" and \"Case Number\". Latitude and Longitude won't help us much either. "
   ]
  },
  {
   "cell_type": "code",
   "execution_count": 4,
   "metadata": {},
   "outputs": [],
   "source": [
    "useless_cols = [\"Unnamed: 0\",\"ID\",\"Case Number\",\"IUCR\",\"X Coordinate\",\"Y Coordinate\",\"Latitude\",\"Longitude\"]"
   ]
  },
  {
   "cell_type": "code",
   "execution_count": 5,
   "metadata": {},
   "outputs": [],
   "source": [
    "crime_df.drop(useless_cols, axis=1, inplace=True)"
   ]
  },
  {
   "cell_type": "markdown",
   "metadata": {},
   "source": [
    "Referencing the source URL: https://data.cityofchicago.org/Public-Safety/Crimes-2001-to-present-Dashboard/5cd6-ry5g,"
   ]
  },
  {
   "cell_type": "markdown",
   "metadata": {},
   "source": [
    "The on-site analysis gives some insights: "
   ]
  },
  {
   "cell_type": "markdown",
   "metadata": {},
   "source": [
    "-> Most crimes are not domestic, which the state of Illinois defines as \"within the family unit\""
   ]
  },
  {
   "cell_type": "markdown",
   "metadata": {},
   "source": [
    "-> The top four types of crimes encompass the vast majority: namely theft, battery, criminal damage, and narcotics. "
   ]
  },
  {
   "cell_type": "markdown",
   "metadata": {},
   "source": [
    "-> The top four locations of crimes also encompass the vast majority: these are street, residence, apartment, and sidewalk."
   ]
  },
  {
   "cell_type": "markdown",
   "metadata": {},
   "source": [
    "We'll restrict our data to the intersection of these specified categories. "
   ]
  },
  {
   "cell_type": "code",
   "execution_count": 6,
   "metadata": {},
   "outputs": [],
   "source": [
    "crime_type = [\"THEFT\",\"BATTERY\",\"NARCOTICS\",\"CRIMINAL DAMAGE\"]\n",
    "crime_loc = [\"STREET\",\"RESIDENCE\",\"SIDEWALK\",\"APARTMENT\"]"
   ]
  },
  {
   "cell_type": "code",
   "execution_count": 7,
   "metadata": {},
   "outputs": [],
   "source": [
    "reduced_df = crime_df.loc[crime_df[\"Location Description\"].isin(crime_loc) &\n",
    "                          crime_df[\"Primary Type\"].isin(crime_type) & \n",
    "                          crime_df[\"Domestic\"].isin([False])].copy()"
   ]
  },
  {
   "cell_type": "code",
   "execution_count": 8,
   "metadata": {},
   "outputs": [
    {
     "name": "stdout",
     "output_type": "stream",
     "text": [
      "<class 'pandas.core.frame.DataFrame'>\n",
      "Int64Index: 79247 entries, 2 to 269246\n",
      "Data columns (total 23 columns):\n",
      "Date                          79247 non-null object\n",
      "Block                         79247 non-null object\n",
      "Primary Type                  79247 non-null object\n",
      "Description                   79247 non-null object\n",
      "Location Description          79247 non-null object\n",
      "Arrest                        79247 non-null bool\n",
      "Domestic                      79247 non-null bool\n",
      "Beat                          79247 non-null float64\n",
      "District                      79247 non-null float64\n",
      "Ward                          79247 non-null float64\n",
      "Community Area                79247 non-null float64\n",
      "FBI Code                      79247 non-null object\n",
      "Year                          79247 non-null float64\n",
      "Updated On                    79247 non-null object\n",
      "Location                      79247 non-null object\n",
      "Historical Wards 2003-2015    79247 non-null float64\n",
      "Zip Codes                     79247 non-null float64\n",
      "Community Areas               79247 non-null float64\n",
      "Census Tracts                 79247 non-null float64\n",
      "Wards                         79247 non-null float64\n",
      "Boundaries - ZIP Codes        79247 non-null float64\n",
      "Police Districts              79247 non-null float64\n",
      "Police Beats                  79247 non-null float64\n",
      "dtypes: bool(2), float64(13), object(8)\n",
      "memory usage: 13.5+ MB\n"
     ]
    }
   ],
   "source": [
    "reduced_df.info()"
   ]
  },
  {
   "cell_type": "markdown",
   "metadata": {},
   "source": [
    "Since the \"Domestic\" column contains only False, we can delete it. In addition, we'll remove many of the columns that are either redundant or not of interest. Then we'll create dummy variables, which turns every category into a separate boolean column. From these dummy variables, we'll derive a correlation matrix and display it as a heat map. "
   ]
  },
  {
   "cell_type": "code",
   "execution_count": 9,
   "metadata": {},
   "outputs": [],
   "source": [
    "cols_to_keep = [\"Primary Type\", \"Location Description\", \"Arrest\"]"
   ]
  },
  {
   "cell_type": "code",
   "execution_count": 10,
   "metadata": {},
   "outputs": [],
   "source": [
    "cols_to_remove = [cols for cols in reduced_df.columns if cols not in cols_to_keep]"
   ]
  },
  {
   "cell_type": "code",
   "execution_count": 11,
   "metadata": {},
   "outputs": [],
   "source": [
    "smaller_df = reduced_df.drop(cols_to_remove, axis=1, inplace=False).copy()"
   ]
  },
  {
   "cell_type": "code",
   "execution_count": 12,
   "metadata": {},
   "outputs": [],
   "source": [
    "dummies = pd.get_dummies(smaller_df, sparse=True)"
   ]
  },
  {
   "cell_type": "code",
   "execution_count": 13,
   "metadata": {},
   "outputs": [],
   "source": [
    "cor = dummies.corr()"
   ]
  },
  {
   "cell_type": "code",
   "execution_count": 14,
   "metadata": {},
   "outputs": [
    {
     "data": {
      "text/plain": [
       "<matplotlib.axes._subplots.AxesSubplot at 0x2624573c8d0>"
      ]
     },
     "execution_count": 14,
     "metadata": {},
     "output_type": "execute_result"
    },
    {
     "data": {
      "image/png": "[encoded data removed]",
      "text/plain": [
       "<Figure size 432x288 with 2 Axes>"
      ]
     },
     "metadata": {
      "needs_background": "light"
     },
     "output_type": "display_data"
    }
   ],
   "source": [
    "sns.heatmap(cor)"
   ]
  },
  {
   "cell_type": "markdown",
   "metadata": {},
   "source": [
    "We note some interesting observations. \"Arrest\" has a significant negative correlation with both \"Criminal Damage\" and \"Theft\", but it positively correlates with \"Narcotics\". In addition, \"Arrest\" has a slight postive correlation with \"Sidewalk\". Moreover, there is a positive correlation between \"Narcotics\" and \"Sidewalk\"."
   ]
  },
  {
   "cell_type": "markdown",
   "metadata": {},
   "source": [
    "Some possible takeaways:"
   ]
  },
  {
   "cell_type": "markdown",
   "metadata": {},
   "source": [
    "-> Crimes involving drugs are likelier to result in arrests"
   ]
  },
  {
   "cell_type": "markdown",
   "metadata": {},
   "source": [
    "-> Illegal drugs are often sold on the street, hence arrests are likelier to be made on the street"
   ]
  },
  {
   "cell_type": "markdown",
   "metadata": {},
   "source": [
    "-> Individual drug dealers/traffickers operate recurringly, exposing themselves to arrest more often than other types of criminals "
   ]
  },
  {
   "cell_type": "markdown",
   "metadata": {},
   "source": [
    "## Next Steps"
   ]
  },
  {
   "cell_type": "markdown",
   "metadata": {},
   "source": [
    "We have the beginnings of a better picture of how arrests are related to various types of crime. The key takeaways are that crimes involving narcotics are likelier to result in arrests, and those involving theft or vandalism are not as likely to result in arrests. Most arrests seem to take place on the sidewalk, which isn't surprising. "
   ]
  },
  {
   "cell_type": "markdown",
   "metadata": {},
   "source": [
    "Here are some possible next steps:"
   ]
  },
  {
   "cell_type": "markdown",
   "metadata": {},
   "source": [
    "->Isolate location attributes of crimes, i.e. \"ward\", \"beat\",... to see how the rate of arrests varies with location. A problem might be that this trend would not generalize so well- it would be unique to Chicago... "
   ]
  },
  {
   "cell_type": "markdown",
   "metadata": {},
   "source": [
    "->I've considered Factor Analysis as an interesting approach, since it could potentially reveal underlying motivators to the apparent variables. This is also a common dimensionality-reduction technique used to tackle largely multi-variate datasets. Note that Factor Analysis is distinct from Principal Component Analysis. For further reading on this topic: https://en.wikipedia.org/wiki/Factor_analysis"
   ]
  }
 ],
 "metadata": {
  "kernelspec": {
   "display_name": "Python 3",
   "language": "python",
   "name": "python3"
  },
  "language_info": {
   "codemirror_mode": {
    "name": "ipython",
    "version": 3
   },
   "file_extension": ".py",
   "mimetype": "text/x-python",
   "name": "python",
   "nbconvert_exporter": "python",
   "pygments_lexer": "ipython3",
   "version": "3.7.0"
  }
 },
 "nbformat": 4,
 "nbformat_minor": 2
}
